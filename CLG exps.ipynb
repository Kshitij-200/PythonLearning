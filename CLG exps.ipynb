{
 "cells": [
  {
   "cell_type": "code",
   "execution_count": 23,
   "id": "e73d8b72",
   "metadata": {},
   "outputs": [],
   "source": [
    "# Import the necessary libraries\n",
    "import pandas as pd\n",
    "import numpy as np\n",
    "\n",
    "import statsmodels.formula.api as smf"
   ]
  },
  {
   "cell_type": "code",
   "execution_count": 24,
   "id": "e484dad8",
   "metadata": {},
   "outputs": [],
   "source": [
    "# Load the Iris dataset into a pandas DataFrame\n",
    "iris = pd.read_csv(\"https://raw.githubusercontent.com/mwaskom/seaborn-data/master/iris.csv\")"
   ]
  },
  {
   "cell_type": "code",
   "execution_count": 25,
   "id": "b3b08fb5",
   "metadata": {},
   "outputs": [],
   "source": [
    "# Fit the OLS model using the `statsmodels` library\n",
    "model = smf.ols(\"sepal_length ~ sepal_width + petal_length + petal_width\", data=iris).fit()"
   ]
  },
  {
   "cell_type": "code",
   "execution_count": 26,
   "id": "271ac75c",
   "metadata": {},
   "outputs": [
    {
     "name": "stdout",
     "output_type": "stream",
     "text": [
      "                            OLS Regression Results                            \n",
      "==============================================================================\n",
      "Dep. Variable:           sepal_length   R-squared:                       0.859\n",
      "Model:                            OLS   Adj. R-squared:                  0.856\n",
      "Method:                 Least Squares   F-statistic:                     295.5\n",
      "Date:                Mon, 30 Jan 2023   Prob (F-statistic):           8.59e-62\n",
      "Time:                        12:34:44   Log-Likelihood:                -37.321\n",
      "No. Observations:                 150   AIC:                             82.64\n",
      "Df Residuals:                     146   BIC:                             94.69\n",
      "Df Model:                           3                                         \n",
      "Covariance Type:            nonrobust                                         \n",
      "================================================================================\n",
      "                   coef    std err          t      P>|t|      [0.025      0.975]\n",
      "--------------------------------------------------------------------------------\n",
      "Intercept        1.8560      0.251      7.401      0.000       1.360       2.352\n",
      "sepal_width      0.6508      0.067      9.765      0.000       0.519       0.783\n",
      "petal_length     0.7091      0.057     12.502      0.000       0.597       0.821\n",
      "petal_width     -0.5565      0.128     -4.363      0.000      -0.809      -0.304\n",
      "==============================================================================\n",
      "Omnibus:                        0.345   Durbin-Watson:                   2.060\n",
      "Prob(Omnibus):                  0.842   Jarque-Bera (JB):                0.504\n",
      "Skew:                           0.007   Prob(JB):                        0.777\n",
      "Kurtosis:                       2.716   Cond. No.                         54.7\n",
      "==============================================================================\n",
      "\n",
      "Notes:\n",
      "[1] Standard Errors assume that the covariance matrix of the errors is correctly specified.\n"
     ]
    }
   ],
   "source": [
    "# Summarize the model's fit\n",
    "print(model.summary())"
   ]
  },
  {
   "cell_type": "code",
   "execution_count": 1,
   "id": "63d916e0",
   "metadata": {},
   "outputs": [],
   "source": [
    "import cv2"
   ]
  },
  {
   "cell_type": "code",
   "execution_count": 2,
   "id": "9bf320f9",
   "metadata": {},
   "outputs": [],
   "source": [
    "import tensorflow as tf"
   ]
  },
  {
   "cell_type": "code",
   "execution_count": null,
   "id": "accef22c",
   "metadata": {},
   "outputs": [],
   "source": [
    "impo"
   ]
  },
  {
   "cell_type": "code",
   "execution_count": null,
   "id": "ff54d6f6",
   "metadata": {},
   "outputs": [],
   "source": []
  },
  {
   "cell_type": "code",
   "execution_count": null,
   "id": "c15a8321",
   "metadata": {},
   "outputs": [],
   "source": []
  }
 ],
 "metadata": {
  "kernelspec": {
   "display_name": "Python 3 (ipykernel)",
   "language": "python",
   "name": "python3"
  },
  "language_info": {
   "codemirror_mode": {
    "name": "ipython",
    "version": 3
   },
   "file_extension": ".py",
   "mimetype": "text/x-python",
   "name": "python",
   "nbconvert_exporter": "python",
   "pygments_lexer": "ipython3",
   "version": "3.9.13"
  }
 },
 "nbformat": 4,
 "nbformat_minor": 5
}
