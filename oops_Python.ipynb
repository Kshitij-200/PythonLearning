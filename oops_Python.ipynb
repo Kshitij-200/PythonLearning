{
 "cells": [
  {
   "cell_type": "markdown",
   "id": "e85dd8d7",
   "metadata": {},
   "source": [
    "# Classes"
   ]
  },
  {
   "cell_type": "code",
   "execution_count": 18,
   "id": "db65f3c0",
   "metadata": {},
   "outputs": [],
   "source": [
    "# Classes as boilerPlates for objects\n",
    "class Person():\n",
    "    # the method that runs as soon as you create a class-intialise\n",
    "    def __init__(self, name, age, colour):\n",
    "        # Create some attributes for our person class\n",
    "        self.name = name\n",
    "        self.age = age\n",
    "        self.colour = colour\n",
    "        \n",
    "    # DOB Method\n",
    "    def yearOfBirth(self):\n",
    "        return 2023 - self.age\n",
    "    \n",
    "    # Projected age\n",
    "    def projected_Age(self, year = 5):\n",
    "        return self.age + year\n",
    "        "
   ]
  },
  {
   "cell_type": "code",
   "execution_count": 19,
   "id": "c1d6aed1",
   "metadata": {},
   "outputs": [],
   "source": [
    "new_person = Person(\"Elon Musk\", 38, \"Blue\")"
   ]
  },
  {
   "cell_type": "code",
   "execution_count": 20,
   "id": "1d646a76",
   "metadata": {},
   "outputs": [
    {
     "data": {
      "text/plain": [
       "'Blue'"
      ]
     },
     "execution_count": 20,
     "metadata": {},
     "output_type": "execute_result"
    }
   ],
   "source": [
    "# Asccesing a class attribute\n",
    "new_person.colour"
   ]
  },
  {
   "cell_type": "code",
   "execution_count": 21,
   "id": "da677ed3",
   "metadata": {},
   "outputs": [
    {
     "data": {
      "text/plain": [
       "1985"
      ]
     },
     "execution_count": 21,
     "metadata": {},
     "output_type": "execute_result"
    }
   ],
   "source": [
    "# Run a method\n",
    "new_person.yearOfBirth()"
   ]
  },
  {
   "cell_type": "code",
   "execution_count": 22,
   "id": "06d8235b",
   "metadata": {},
   "outputs": [
    {
     "data": {
      "text/plain": [
       "43"
      ]
     },
     "execution_count": 22,
     "metadata": {},
     "output_type": "execute_result"
    }
   ],
   "source": [
    "# Run a method\n",
    "new_person.projected_Age()"
   ]
  },
  {
   "cell_type": "code",
   "execution_count": 23,
   "id": "6bda2f02",
   "metadata": {},
   "outputs": [
    {
     "data": {
      "text/plain": [
       "48"
      ]
     },
     "execution_count": 23,
     "metadata": {},
     "output_type": "execute_result"
    }
   ],
   "source": [
    "# Run a method with a keyword argument\n",
    "new_person.projected_Age(year = 10)"
   ]
  },
  {
   "cell_type": "code",
   "execution_count": null,
   "id": "e2e966f7",
   "metadata": {},
   "outputs": [],
   "source": []
  },
  {
   "cell_type": "code",
   "execution_count": null,
   "id": "f60a494a",
   "metadata": {},
   "outputs": [],
   "source": []
  },
  {
   "cell_type": "code",
   "execution_count": null,
   "id": "6cfb0e73",
   "metadata": {},
   "outputs": [],
   "source": []
  },
  {
   "cell_type": "code",
   "execution_count": null,
   "id": "fbdae01b",
   "metadata": {},
   "outputs": [],
   "source": []
  },
  {
   "cell_type": "code",
   "execution_count": null,
   "id": "653a5b84",
   "metadata": {},
   "outputs": [],
   "source": []
  },
  {
   "cell_type": "code",
   "execution_count": null,
   "id": "0e3904fe",
   "metadata": {},
   "outputs": [],
   "source": []
  }
 ],
 "metadata": {
  "kernelspec": {
   "display_name": "Python 3 (ipykernel)",
   "language": "python",
   "name": "python3"
  },
  "language_info": {
   "codemirror_mode": {
    "name": "ipython",
    "version": 3
   },
   "file_extension": ".py",
   "mimetype": "text/x-python",
   "name": "python",
   "nbconvert_exporter": "python",
   "pygments_lexer": "ipython3",
   "version": "3.10.1"
  }
 },
 "nbformat": 4,
 "nbformat_minor": 5
}
