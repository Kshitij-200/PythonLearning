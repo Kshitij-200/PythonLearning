{
 "cells": [
  {
   "cell_type": "markdown",
   "id": "f2a5fcee",
   "metadata": {},
   "source": [
    "# Variables"
   ]
  },
  {
   "cell_type": "code",
   "execution_count": 49,
   "id": "eb62ffd6",
   "metadata": {},
   "outputs": [],
   "source": [
    "space_name = 500095650.012"
   ]
  },
  {
   "cell_type": "code",
   "execution_count": 50,
   "id": "d324da5b",
   "metadata": {},
   "outputs": [
    {
     "name": "stdout",
     "output_type": "stream",
     "text": [
      "500095650.012\n"
     ]
    }
   ],
   "source": [
    "print(space_name)"
   ]
  },
  {
   "cell_type": "code",
   "execution_count": 51,
   "id": "f4ec490d",
   "metadata": {
    "scrolled": true
   },
   "outputs": [
    {
     "data": {
      "text/plain": [
       "float"
      ]
     },
     "execution_count": 51,
     "metadata": {},
     "output_type": "execute_result"
    }
   ],
   "source": [
    "type(space_name)"
   ]
  },
  {
   "cell_type": "markdown",
   "id": "5e4017a4",
   "metadata": {},
   "source": [
    "# Data Types"
   ]
  },
  {
   "cell_type": "code",
   "execution_count": 52,
   "id": "218652f7",
   "metadata": {},
   "outputs": [
    {
     "name": "stdout",
     "output_type": "stream",
     "text": [
      "pluto\n"
     ]
    }
   ],
   "source": [
    "# This is declaring a variable as a string.\n",
    "test_variable = 'pluto'\n",
    "print(test_variable)"
   ]
  },
  {
   "cell_type": "code",
   "execution_count": 53,
   "id": "b6a713de",
   "metadata": {},
   "outputs": [
    {
     "data": {
      "text/plain": [
       "str"
      ]
     },
     "execution_count": 53,
     "metadata": {},
     "output_type": "execute_result"
    }
   ],
   "source": [
    "type(test_variable)"
   ]
  },
  {
   "cell_type": "code",
   "execution_count": 54,
   "id": "84d96df5",
   "metadata": {},
   "outputs": [
    {
     "name": "stdout",
     "output_type": "stream",
     "text": [
      "123456789\n"
     ]
    }
   ],
   "source": [
    "# This is declaring a variable as an Integer\n",
    "int_variable = 123456789\n",
    "print(int_variable)"
   ]
  },
  {
   "cell_type": "code",
   "execution_count": 55,
   "id": "69c183fe",
   "metadata": {},
   "outputs": [
    {
     "data": {
      "text/plain": [
       "int"
      ]
     },
     "execution_count": 55,
     "metadata": {},
     "output_type": "execute_result"
    }
   ],
   "source": [
    "type(int_variable)"
   ]
  },
  {
   "cell_type": "code",
   "execution_count": 56,
   "id": "f7dd772e",
   "metadata": {},
   "outputs": [
    {
     "data": {
      "text/plain": [
       "123456799"
      ]
     },
     "execution_count": 56,
     "metadata": {},
     "output_type": "execute_result"
    }
   ],
   "source": [
    "int_variable + 10"
   ]
  },
  {
   "cell_type": "code",
   "execution_count": 57,
   "id": "71667e45",
   "metadata": {},
   "outputs": [
    {
     "name": "stdout",
     "output_type": "stream",
     "text": [
      "123.256\n"
     ]
    }
   ],
   "source": [
    "# This is declaring a variable as a float\n",
    "float_variable = 123.256\n",
    "print(float_variable)"
   ]
  },
  {
   "cell_type": "code",
   "execution_count": 58,
   "id": "d92d28c6",
   "metadata": {},
   "outputs": [
    {
     "data": {
      "text/plain": [
       "float"
      ]
     },
     "execution_count": 58,
     "metadata": {},
     "output_type": "execute_result"
    }
   ],
   "source": [
    "type(float_variable)"
   ]
  },
  {
   "cell_type": "code",
   "execution_count": 59,
   "id": "179f3d8a",
   "metadata": {},
   "outputs": [
    {
     "data": {
      "text/plain": [
       "bool"
      ]
     },
     "execution_count": 59,
     "metadata": {},
     "output_type": "execute_result"
    }
   ],
   "source": [
    "# This is declaring a variable as a boolean value\n",
    "bool_variable = True\n",
    "type(bool_variable)"
   ]
  },
  {
   "cell_type": "code",
   "execution_count": 60,
   "id": "f5ded567",
   "metadata": {},
   "outputs": [
    {
     "data": {
      "text/plain": [
       "str"
      ]
     },
     "execution_count": 60,
     "metadata": {},
     "output_type": "execute_result"
    }
   ],
   "source": [
    "bool_variable = 'True'\n",
    "type(bool_variable)"
   ]
  },
  {
   "cell_type": "code",
   "execution_count": 61,
   "id": "3fae86a2",
   "metadata": {},
   "outputs": [
    {
     "data": {
      "text/plain": [
       "bool"
      ]
     },
     "execution_count": 61,
     "metadata": {},
     "output_type": "execute_result"
    }
   ],
   "source": [
    "bool_variable = bool(0)\n",
    "type(bool_variable)"
   ]
  },
  {
   "cell_type": "code",
   "execution_count": 62,
   "id": "831334ca",
   "metadata": {},
   "outputs": [
    {
     "data": {
      "text/plain": [
       "False"
      ]
     },
     "execution_count": 62,
     "metadata": {},
     "output_type": "execute_result"
    }
   ],
   "source": [
    "bool_variable"
   ]
  },
  {
   "cell_type": "code",
   "execution_count": 63,
   "id": "13c55db0",
   "metadata": {},
   "outputs": [
    {
     "data": {
      "text/plain": [
       "list"
      ]
     },
     "execution_count": 63,
     "metadata": {},
     "output_type": "execute_result"
    }
   ],
   "source": [
    "# This is creating a List Variable\n",
    "list_variable = [1,2,3,4,44,22.1,52.2,1,2,3]\n",
    "type(list_variable)\n"
   ]
  },
  {
   "cell_type": "code",
   "execution_count": 64,
   "id": "a7c19504",
   "metadata": {},
   "outputs": [
    {
     "name": "stdout",
     "output_type": "stream",
     "text": [
      "[1, 2, 3, 4, 44, 22.1, 52.2, 1, 2, 3]\n"
     ]
    }
   ],
   "source": [
    "print(list_variable)"
   ]
  },
  {
   "cell_type": "code",
   "execution_count": 65,
   "id": "2b53c739",
   "metadata": {},
   "outputs": [],
   "source": [
    "list_variable[6] = 52.235"
   ]
  },
  {
   "cell_type": "code",
   "execution_count": 66,
   "id": "25c17e84",
   "metadata": {},
   "outputs": [
    {
     "name": "stdout",
     "output_type": "stream",
     "text": [
      "[1, 2, 3, 4, 44, 22.1, 52.235, 1, 2, 3]\n"
     ]
    }
   ],
   "source": [
    "print(list_variable)"
   ]
  },
  {
   "cell_type": "code",
   "execution_count": 67,
   "id": "518c5d2a",
   "metadata": {},
   "outputs": [
    {
     "name": "stdout",
     "output_type": "stream",
     "text": [
      "(1, 2, 3, 4, 44, 22.1, 52.2)\n"
     ]
    }
   ],
   "source": [
    "# Create a tuple variable, Immutable = You can't change the values\n",
    "tuple_var = (1,2,3,4,44,22.1,52.2)\n",
    "print(tuple_var)"
   ]
  },
  {
   "cell_type": "code",
   "execution_count": 68,
   "id": "2c679221",
   "metadata": {},
   "outputs": [
    {
     "data": {
      "text/plain": [
       "tuple"
      ]
     },
     "execution_count": 68,
     "metadata": {},
     "output_type": "execute_result"
    }
   ],
   "source": [
    "type(tuple_var)"
   ]
  },
  {
   "cell_type": "code",
   "execution_count": 69,
   "id": "47ba59ba",
   "metadata": {},
   "outputs": [
    {
     "data": {
      "text/plain": [
       "22.1"
      ]
     },
     "execution_count": 69,
     "metadata": {},
     "output_type": "execute_result"
    }
   ],
   "source": [
    "tuple_var[5]"
   ]
  },
  {
   "cell_type": "code",
   "execution_count": 70,
   "id": "c4fbca6b",
   "metadata": {},
   "outputs": [
    {
     "data": {
      "text/plain": [
       "set"
      ]
     },
     "execution_count": 70,
     "metadata": {},
     "output_type": "execute_result"
    }
   ],
   "source": [
    "# This is creating a set variable, Immutable = you can't change the values\n",
    "set_var = {1, 2, 3, 4, 44, 22.1, 52.235}\n",
    "type(set_var)"
   ]
  },
  {
   "cell_type": "code",
   "execution_count": 71,
   "id": "d83b2337",
   "metadata": {},
   "outputs": [
    {
     "name": "stdout",
     "output_type": "stream",
     "text": [
      "{1, 2, 3, 4, 52.235, 22.1, 44}\n"
     ]
    }
   ],
   "source": [
    "print(set_var)"
   ]
  },
  {
   "cell_type": "code",
   "execution_count": 72,
   "id": "38f59bea",
   "metadata": {},
   "outputs": [
    {
     "ename": "TypeError",
     "evalue": "'set' object is not subscriptable",
     "output_type": "error",
     "traceback": [
      "\u001b[1;31m---------------------------------------------------------------------------\u001b[0m",
      "\u001b[1;31mTypeError\u001b[0m                                 Traceback (most recent call last)",
      "Input \u001b[1;32mIn [72]\u001b[0m, in \u001b[0;36m<cell line: 2>\u001b[1;34m()\u001b[0m\n\u001b[0;32m      1\u001b[0m \u001b[38;5;66;03m# Set are not ordered, No DUPLICATES\u001b[39;00m\n\u001b[1;32m----> 2\u001b[0m \u001b[43mset_var\u001b[49m\u001b[43m[\u001b[49m\u001b[38;5;241;43m5\u001b[39;49m\u001b[43m]\u001b[49m\n",
      "\u001b[1;31mTypeError\u001b[0m: 'set' object is not subscriptable"
     ]
    }
   ],
   "source": [
    "# Set are not ordered, No DUPLICATES\n",
    "set_var[5]"
   ]
  },
  {
   "cell_type": "code",
   "execution_count": 74,
   "id": "d30f80da",
   "metadata": {},
   "outputs": [
    {
     "data": {
      "text/plain": [
       "list"
      ]
     },
     "execution_count": 74,
     "metadata": {},
     "output_type": "execute_result"
    }
   ],
   "source": [
    "# Typecasting list to set back to list to get rid of the duplicates\n",
    "type(list(set(list_variable)))"
   ]
  },
  {
   "cell_type": "code",
   "execution_count": null,
   "id": "f11fef67",
   "metadata": {},
   "outputs": [],
   "source": []
  },
  {
   "cell_type": "code",
   "execution_count": null,
   "id": "fb8f75dd",
   "metadata": {},
   "outputs": [],
   "source": []
  },
  {
   "cell_type": "code",
   "execution_count": null,
   "id": "38abedf9",
   "metadata": {},
   "outputs": [],
   "source": []
  },
  {
   "cell_type": "code",
   "execution_count": null,
   "id": "07887622",
   "metadata": {},
   "outputs": [],
   "source": []
  },
  {
   "cell_type": "code",
   "execution_count": null,
   "id": "0a1330f3",
   "metadata": {},
   "outputs": [],
   "source": []
  }
 ],
 "metadata": {
  "kernelspec": {
   "display_name": "Python 3 (ipykernel)",
   "language": "python",
   "name": "python3"
  },
  "language_info": {
   "codemirror_mode": {
    "name": "ipython",
    "version": 3
   },
   "file_extension": ".py",
   "mimetype": "text/x-python",
   "name": "python",
   "nbconvert_exporter": "python",
   "pygments_lexer": "ipython3",
   "version": "3.10.1"
  }
 },
 "nbformat": 4,
 "nbformat_minor": 5
}
