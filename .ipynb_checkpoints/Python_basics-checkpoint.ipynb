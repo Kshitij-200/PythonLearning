{
 "cells": [
  {
   "cell_type": "markdown",
   "id": "f2a5fcee",
   "metadata": {},
   "source": [
    "# Variables"
   ]
  },
  {
   "cell_type": "code",
   "execution_count": 49,
   "id": "eb62ffd6",
   "metadata": {},
   "outputs": [],
   "source": [
    "space_name = 500095650.012"
   ]
  },
  {
   "cell_type": "code",
   "execution_count": 50,
   "id": "d324da5b",
   "metadata": {},
   "outputs": [
    {
     "name": "stdout",
     "output_type": "stream",
     "text": [
      "500095650.012\n"
     ]
    }
   ],
   "source": [
    "print(space_name)"
   ]
  },
  {
   "cell_type": "code",
   "execution_count": 51,
   "id": "f4ec490d",
   "metadata": {
    "scrolled": true
   },
   "outputs": [
    {
     "data": {
      "text/plain": [
       "float"
      ]
     },
     "execution_count": 51,
     "metadata": {},
     "output_type": "execute_result"
    }
   ],
   "source": [
    "type(space_name)"
   ]
  },
  {
   "cell_type": "markdown",
   "id": "5e4017a4",
   "metadata": {},
   "source": [
    "# Data Types"
   ]
  },
  {
   "cell_type": "code",
   "execution_count": 52,
   "id": "218652f7",
   "metadata": {},
   "outputs": [
    {
     "name": "stdout",
     "output_type": "stream",
     "text": [
      "pluto\n"
     ]
    }
   ],
   "source": [
    "# This is declaring a variable as a string.\n",
    "test_variable = 'pluto'\n",
    "print(test_variable)"
   ]
  },
  {
   "cell_type": "code",
   "execution_count": 53,
   "id": "b6a713de",
   "metadata": {},
   "outputs": [
    {
     "data": {
      "text/plain": [
       "str"
      ]
     },
     "execution_count": 53,
     "metadata": {},
     "output_type": "execute_result"
    }
   ],
   "source": [
    "type(test_variable)"
   ]
  },
  {
   "cell_type": "code",
   "execution_count": 54,
   "id": "84d96df5",
   "metadata": {},
   "outputs": [
    {
     "name": "stdout",
     "output_type": "stream",
     "text": [
      "123456789\n"
     ]
    }
   ],
   "source": [
    "# This is declaring a variable as an Integer\n",
    "int_variable = 123456789\n",
    "print(int_variable)"
   ]
  },
  {
   "cell_type": "code",
   "execution_count": 55,
   "id": "69c183fe",
   "metadata": {},
   "outputs": [
    {
     "data": {
      "text/plain": [
       "int"
      ]
     },
     "execution_count": 55,
     "metadata": {},
     "output_type": "execute_result"
    }
   ],
   "source": [
    "type(int_variable)"
   ]
  },
  {
   "cell_type": "code",
   "execution_count": 56,
   "id": "f7dd772e",
   "metadata": {},
   "outputs": [
    {
     "data": {
      "text/plain": [
       "123456799"
      ]
     },
     "execution_count": 56,
     "metadata": {},
     "output_type": "execute_result"
    }
   ],
   "source": [
    "int_variable + 10"
   ]
  },
  {
   "cell_type": "code",
   "execution_count": 57,
   "id": "71667e45",
   "metadata": {},
   "outputs": [
    {
     "name": "stdout",
     "output_type": "stream",
     "text": [
      "123.256\n"
     ]
    }
   ],
   "source": [
    "# This is declaring a variable as a float\n",
    "float_variable = 123.256\n",
    "print(float_variable)"
   ]
  },
  {
   "cell_type": "code",
   "execution_count": 58,
   "id": "d92d28c6",
   "metadata": {},
   "outputs": [
    {
     "data": {
      "text/plain": [
       "float"
      ]
     },
     "execution_count": 58,
     "metadata": {},
     "output_type": "execute_result"
    }
   ],
   "source": [
    "type(float_variable)"
   ]
  },
  {
   "cell_type": "code",
   "execution_count": 59,
   "id": "179f3d8a",
   "metadata": {},
   "outputs": [
    {
     "data": {
      "text/plain": [
       "bool"
      ]
     },
     "execution_count": 59,
     "metadata": {},
     "output_type": "execute_result"
    }
   ],
   "source": [
    "# This is declaring a variable as a boolean value\n",
    "bool_variable = True\n",
    "type(bool_variable)"
   ]
  },
  {
   "cell_type": "code",
   "execution_count": 60,
   "id": "f5ded567",
   "metadata": {},
   "outputs": [
    {
     "data": {
      "text/plain": [
       "str"
      ]
     },
     "execution_count": 60,
     "metadata": {},
     "output_type": "execute_result"
    }
   ],
   "source": [
    "bool_variable = 'True'\n",
    "type(bool_variable)"
   ]
  },
  {
   "cell_type": "code",
   "execution_count": 61,
   "id": "3fae86a2",
   "metadata": {},
   "outputs": [
    {
     "data": {
      "text/plain": [
       "bool"
      ]
     },
     "execution_count": 61,
     "metadata": {},
     "output_type": "execute_result"
    }
   ],
   "source": [
    "bool_variable = bool(0)\n",
    "type(bool_variable)"
   ]
  },
  {
   "cell_type": "code",
   "execution_count": 62,
   "id": "831334ca",
   "metadata": {},
   "outputs": [
    {
     "data": {
      "text/plain": [
       "False"
      ]
     },
     "execution_count": 62,
     "metadata": {},
     "output_type": "execute_result"
    }
   ],
   "source": [
    "bool_variable"
   ]
  },
  {
   "cell_type": "code",
   "execution_count": 63,
   "id": "13c55db0",
   "metadata": {},
   "outputs": [
    {
     "data": {
      "text/plain": [
       "list"
      ]
     },
     "execution_count": 63,
     "metadata": {},
     "output_type": "execute_result"
    }
   ],
   "source": [
    "# This is creating a List Variable\n",
    "list_variable = [1,2,3,4,44,22.1,52.2,1,2,3]\n",
    "type(list_variable)\n"
   ]
  },
  {
   "cell_type": "code",
   "execution_count": 64,
   "id": "a7c19504",
   "metadata": {},
   "outputs": [
    {
     "name": "stdout",
     "output_type": "stream",
     "text": [
      "[1, 2, 3, 4, 44, 22.1, 52.2, 1, 2, 3]\n"
     ]
    }
   ],
   "source": [
    "print(list_variable)"
   ]
  },
  {
   "cell_type": "code",
   "execution_count": 65,
   "id": "2b53c739",
   "metadata": {},
   "outputs": [],
   "source": [
    "list_variable[6] = 52.235"
   ]
  },
  {
   "cell_type": "code",
   "execution_count": 66,
   "id": "25c17e84",
   "metadata": {},
   "outputs": [
    {
     "name": "stdout",
     "output_type": "stream",
     "text": [
      "[1, 2, 3, 4, 44, 22.1, 52.235, 1, 2, 3]\n"
     ]
    }
   ],
   "source": [
    "print(list_variable)"
   ]
  },
  {
   "cell_type": "code",
   "execution_count": 67,
   "id": "518c5d2a",
   "metadata": {},
   "outputs": [
    {
     "name": "stdout",
     "output_type": "stream",
     "text": [
      "(1, 2, 3, 4, 44, 22.1, 52.2)\n"
     ]
    }
   ],
   "source": [
    "# Create a tuple variable, Immutable = You can't change the values\n",
    "tuple_var = (1,2,3,4,44,22.1,52.2)\n",
    "print(tuple_var)"
   ]
  },
  {
   "cell_type": "code",
   "execution_count": 68,
   "id": "2c679221",
   "metadata": {},
   "outputs": [
    {
     "data": {
      "text/plain": [
       "tuple"
      ]
     },
     "execution_count": 68,
     "metadata": {},
     "output_type": "execute_result"
    }
   ],
   "source": [
    "type(tuple_var)"
   ]
  },
  {
   "cell_type": "code",
   "execution_count": 69,
   "id": "47ba59ba",
   "metadata": {},
   "outputs": [
    {
     "data": {
      "text/plain": [
       "22.1"
      ]
     },
     "execution_count": 69,
     "metadata": {},
     "output_type": "execute_result"
    }
   ],
   "source": [
    "tuple_var[5]"
   ]
  },
  {
   "cell_type": "code",
   "execution_count": 70,
   "id": "c4fbca6b",
   "metadata": {},
   "outputs": [
    {
     "data": {
      "text/plain": [
       "set"
      ]
     },
     "execution_count": 70,
     "metadata": {},
     "output_type": "execute_result"
    }
   ],
   "source": [
    "# This is creating a set variable, Immutable = you can't change the values\n",
    "set_var = {1, 2, 3, 4, 44, 22.1, 52.235}\n",
    "type(set_var)"
   ]
  },
  {
   "cell_type": "code",
   "execution_count": 71,
   "id": "d83b2337",
   "metadata": {},
   "outputs": [
    {
     "name": "stdout",
     "output_type": "stream",
     "text": [
      "{1, 2, 3, 4, 52.235, 22.1, 44}\n"
     ]
    }
   ],
   "source": [
    "print(set_var)"
   ]
  },
  {
   "cell_type": "code",
   "execution_count": 72,
   "id": "38f59bea",
   "metadata": {},
   "outputs": [
    {
     "ename": "TypeError",
     "evalue": "'set' object is not subscriptable",
     "output_type": "error",
     "traceback": [
      "\u001b[1;31m---------------------------------------------------------------------------\u001b[0m",
      "\u001b[1;31mTypeError\u001b[0m                                 Traceback (most recent call last)",
      "Input \u001b[1;32mIn [72]\u001b[0m, in \u001b[0;36m<cell line: 2>\u001b[1;34m()\u001b[0m\n\u001b[0;32m      1\u001b[0m \u001b[38;5;66;03m# Set are not ordered, No DUPLICATES\u001b[39;00m\n\u001b[1;32m----> 2\u001b[0m \u001b[43mset_var\u001b[49m\u001b[43m[\u001b[49m\u001b[38;5;241;43m5\u001b[39;49m\u001b[43m]\u001b[49m\n",
      "\u001b[1;31mTypeError\u001b[0m: 'set' object is not subscriptable"
     ]
    }
   ],
   "source": [
    "# Set are not ordered, No DUPLICATES\n",
    "set_var[5]"
   ]
  },
  {
   "cell_type": "code",
   "execution_count": 74,
   "id": "d30f80da",
   "metadata": {},
   "outputs": [
    {
     "data": {
      "text/plain": [
       "list"
      ]
     },
     "execution_count": 74,
     "metadata": {},
     "output_type": "execute_result"
    }
   ],
   "source": [
    "# Typecasting list to set back to list to get rid of the duplicates\n",
    "type(list(set(list_variable)))"
   ]
  },
  {
   "cell_type": "markdown",
   "id": "5bc26b1d",
   "metadata": {},
   "source": [
    "# Dictionary "
   ]
  },
  {
   "cell_type": "code",
   "execution_count": 1,
   "id": "1e058315",
   "metadata": {},
   "outputs": [
    {
     "data": {
      "text/plain": [
       "dict"
      ]
     },
     "execution_count": 1,
     "metadata": {},
     "output_type": "execute_result"
    }
   ],
   "source": [
    "# Defining a dictionary variable\n",
    "dict_var = {'name':\"kshitij\", 'fav_col':\"Blue\", 'fav_no':7}\n",
    "type(dict_var)"
   ]
  },
  {
   "cell_type": "code",
   "execution_count": 3,
   "id": "8aa2a58c",
   "metadata": {},
   "outputs": [
    {
     "data": {
      "text/plain": [
       "'kshitij'"
      ]
     },
     "execution_count": 3,
     "metadata": {},
     "output_type": "execute_result"
    }
   ],
   "source": [
    "dict_var['name']"
   ]
  },
  {
   "cell_type": "code",
   "execution_count": 4,
   "id": "83dda911",
   "metadata": {},
   "outputs": [
    {
     "data": {
      "text/plain": [
       "'Blue'"
      ]
     },
     "execution_count": 4,
     "metadata": {},
     "output_type": "execute_result"
    }
   ],
   "source": [
    "dict_var['fav_col']"
   ]
  },
  {
   "cell_type": "code",
   "execution_count": 5,
   "id": "44009b25",
   "metadata": {},
   "outputs": [
    {
     "data": {
      "text/plain": [
       "7"
      ]
     },
     "execution_count": 5,
     "metadata": {},
     "output_type": "execute_result"
    }
   ],
   "source": [
    "dict_var['fav_no']"
   ]
  },
  {
   "cell_type": "code",
   "execution_count": 2,
   "id": "52dfe03b",
   "metadata": {},
   "outputs": [
    {
     "name": "stdout",
     "output_type": "stream",
     "text": [
      "{'name': 'kshitij', 'fav_col': 'Blue', 'fav_no': 7}\n"
     ]
    }
   ],
   "source": [
    "print(dict_var)"
   ]
  },
  {
   "cell_type": "markdown",
   "id": "f59ba3e1",
   "metadata": {},
   "source": [
    "# Lists"
   ]
  },
  {
   "cell_type": "code",
   "execution_count": 17,
   "id": "2062c924",
   "metadata": {},
   "outputs": [],
   "source": [
    "# Create\n",
    "names = ['roy','kshitij','tiya','tisha','ankush','alkush','elon musk']"
   ]
  },
  {
   "cell_type": "code",
   "execution_count": 18,
   "id": "62bd3b03",
   "metadata": {},
   "outputs": [
    {
     "data": {
      "text/plain": [
       "['roy', 'kshitij', 'tiya', 'tisha', 'ankush', 'alkush', 'elon musk']"
      ]
     },
     "execution_count": 18,
     "metadata": {},
     "output_type": "execute_result"
    }
   ],
   "source": [
    "# Read\n",
    "names"
   ]
  },
  {
   "cell_type": "code",
   "execution_count": 19,
   "id": "98f631cd",
   "metadata": {},
   "outputs": [
    {
     "data": {
      "text/plain": [
       "'roy'"
      ]
     },
     "execution_count": 19,
     "metadata": {},
     "output_type": "execute_result"
    }
   ],
   "source": [
    "# Read using Indexing\n",
    "names[0]"
   ]
  },
  {
   "cell_type": "code",
   "execution_count": 20,
   "id": "dd9843db",
   "metadata": {},
   "outputs": [
    {
     "data": {
      "text/plain": [
       "'elon musk'"
      ]
     },
     "execution_count": 20,
     "metadata": {},
     "output_type": "execute_result"
    }
   ],
   "source": [
    "names[-1]"
   ]
  },
  {
   "cell_type": "code",
   "execution_count": 21,
   "id": "adcc5c90",
   "metadata": {},
   "outputs": [
    {
     "data": {
      "text/plain": [
       "7"
      ]
     },
     "execution_count": 21,
     "metadata": {},
     "output_type": "execute_result"
    }
   ],
   "source": [
    "len(names)"
   ]
  },
  {
   "cell_type": "code",
   "execution_count": 22,
   "id": "5ac5d411",
   "metadata": {},
   "outputs": [
    {
     "data": {
      "text/plain": [
       "['roy', 'kshitij', 'tiya', 'tisha', 'ankush', 'alkush', 'neil arm strong']"
      ]
     },
     "execution_count": 22,
     "metadata": {},
     "output_type": "execute_result"
    }
   ],
   "source": [
    "# Update\n",
    "names[-1] = \"neil arm strong\"\n",
    "names"
   ]
  },
  {
   "cell_type": "code",
   "execution_count": 24,
   "id": "8327d5af",
   "metadata": {},
   "outputs": [
    {
     "data": {
      "text/plain": [
       "['roy',\n",
       " 'kshitij',\n",
       " 'tiya',\n",
       " 'tisha',\n",
       " 'ankush',\n",
       " 'alkush',\n",
       " 'neil arm strong',\n",
       " 'elon musk',\n",
       " 'elon musk']"
      ]
     },
     "execution_count": 24,
     "metadata": {},
     "output_type": "execute_result"
    }
   ],
   "source": [
    "names.append(\"elon musk\")\n",
    "names"
   ]
  },
  {
   "cell_type": "code",
   "execution_count": 26,
   "id": "f510aae2",
   "metadata": {},
   "outputs": [],
   "source": [
    "names.insert(0,\"robert\")"
   ]
  },
  {
   "cell_type": "code",
   "execution_count": 27,
   "id": "7c532dcd",
   "metadata": {},
   "outputs": [
    {
     "data": {
      "text/plain": [
       "['robert',\n",
       " 'roy',\n",
       " 'kshitij',\n",
       " 'tiya',\n",
       " 'tisha',\n",
       " 'ankush',\n",
       " 'alkush',\n",
       " 'neil arm strong',\n",
       " 'elon musk',\n",
       " 'elon musk']"
      ]
     },
     "execution_count": 27,
     "metadata": {},
     "output_type": "execute_result"
    }
   ],
   "source": [
    "names"
   ]
  },
  {
   "cell_type": "code",
   "execution_count": null,
   "id": "e59fecab",
   "metadata": {},
   "outputs": [],
   "source": [
    "# Delete"
   ]
  },
  {
   "cell_type": "code",
   "execution_count": 28,
   "id": "fcc9af1f",
   "metadata": {},
   "outputs": [
    {
     "data": {
      "text/plain": [
       "'elon musk'"
      ]
     },
     "execution_count": 28,
     "metadata": {},
     "output_type": "execute_result"
    }
   ],
   "source": [
    "names[-2]"
   ]
  },
  {
   "cell_type": "code",
   "execution_count": 30,
   "id": "6926e68e",
   "metadata": {},
   "outputs": [
    {
     "data": {
      "text/plain": [
       "['robert', 'roy', 'kshitij', 'tiya', 'tisha', 'ankush', 'alkush', 'elon musk']"
      ]
     },
     "execution_count": 30,
     "metadata": {},
     "output_type": "execute_result"
    }
   ],
   "source": [
    "del names[-2]\n",
    "names"
   ]
  },
  {
   "cell_type": "markdown",
   "id": "944cd30d",
   "metadata": {},
   "source": [
    "# Dictionaries(continued)"
   ]
  },
  {
   "cell_type": "code",
   "execution_count": 35,
   "id": "fb8f75dd",
   "metadata": {},
   "outputs": [],
   "source": [
    "# Create\n",
    "astronaut = {\n",
    "    \"name\": \"Rakesh Sharma\",\n",
    "    \"Suit_size\": \"Large\",\n",
    "    \"Allergies\": \"Roti\"\n",
    "}"
   ]
  },
  {
   "cell_type": "code",
   "execution_count": null,
   "id": "38abedf9",
   "metadata": {},
   "outputs": [],
   "source": [
    "# Read"
   ]
  },
  {
   "cell_type": "code",
   "execution_count": 36,
   "id": "446545cd",
   "metadata": {},
   "outputs": [
    {
     "data": {
      "text/plain": [
       "{'name': 'Rakesh Sharma', 'Suit_size': 'Large', 'Allergies': 'Roti'}"
      ]
     },
     "execution_count": 36,
     "metadata": {},
     "output_type": "execute_result"
    }
   ],
   "source": [
    "astronaut"
   ]
  },
  {
   "cell_type": "code",
   "execution_count": 38,
   "id": "4e1aef7b",
   "metadata": {},
   "outputs": [
    {
     "data": {
      "text/plain": [
       "'Large'"
      ]
     },
     "execution_count": 38,
     "metadata": {},
     "output_type": "execute_result"
    }
   ],
   "source": [
    "astronaut[\"Suit_size\"]"
   ]
  },
  {
   "cell_type": "code",
   "execution_count": 42,
   "id": "6161b92d",
   "metadata": {},
   "outputs": [
    {
     "data": {
      "text/plain": [
       "['name', 'Suit_size', 'Allergies']"
      ]
     },
     "execution_count": 42,
     "metadata": {},
     "output_type": "execute_result"
    }
   ],
   "source": [
    "list(astronaut.keys())"
   ]
  },
  {
   "cell_type": "code",
   "execution_count": 43,
   "id": "ae9a686a",
   "metadata": {},
   "outputs": [
    {
     "data": {
      "text/plain": [
       "dict_keys(['name', 'Suit_size', 'Allergies'])"
      ]
     },
     "execution_count": 43,
     "metadata": {},
     "output_type": "execute_result"
    }
   ],
   "source": [
    "astronaut.keys()"
   ]
  },
  {
   "cell_type": "code",
   "execution_count": 44,
   "id": "866a984b",
   "metadata": {},
   "outputs": [
    {
     "data": {
      "text/plain": [
       "dict_values(['Rakesh Sharma', 'Large', 'Roti'])"
      ]
     },
     "execution_count": 44,
     "metadata": {},
     "output_type": "execute_result"
    }
   ],
   "source": [
    "astronaut.values()"
   ]
  },
  {
   "cell_type": "code",
   "execution_count": 45,
   "id": "138550f9",
   "metadata": {},
   "outputs": [
    {
     "data": {
      "text/plain": [
       "['Rakesh Sharma', 'Large', 'Roti']"
      ]
     },
     "execution_count": 45,
     "metadata": {},
     "output_type": "execute_result"
    }
   ],
   "source": [
    "list(astronaut.values())"
   ]
  },
  {
   "cell_type": "code",
   "execution_count": null,
   "id": "07887622",
   "metadata": {},
   "outputs": [],
   "source": [
    "# Update"
   ]
  },
  {
   "cell_type": "code",
   "execution_count": 46,
   "id": "9f58a78b",
   "metadata": {},
   "outputs": [],
   "source": [
    "astronaut[\"allergies\"] = \"mango\""
   ]
  },
  {
   "cell_type": "code",
   "execution_count": 47,
   "id": "aac61ffa",
   "metadata": {},
   "outputs": [
    {
     "data": {
      "text/plain": [
       "{'name': 'Rakesh Sharma',\n",
       " 'Suit_size': 'Large',\n",
       " 'Allergies': 'Roti',\n",
       " 'allergies': 'mango'}"
      ]
     },
     "execution_count": 47,
     "metadata": {},
     "output_type": "execute_result"
    }
   ],
   "source": [
    "astronaut"
   ]
  },
  {
   "cell_type": "code",
   "execution_count": 48,
   "id": "a2e5d4b1",
   "metadata": {},
   "outputs": [],
   "source": [
    "astronaut[\"space_ship\"] = \"GSLV - 1\""
   ]
  },
  {
   "cell_type": "code",
   "execution_count": 49,
   "id": "ae887e60",
   "metadata": {},
   "outputs": [
    {
     "data": {
      "text/plain": [
       "{'name': 'Rakesh Sharma',\n",
       " 'Suit_size': 'Large',\n",
       " 'Allergies': 'Roti',\n",
       " 'allergies': 'mango',\n",
       " 'space_ship': 'GSLV - 1'}"
      ]
     },
     "execution_count": 49,
     "metadata": {},
     "output_type": "execute_result"
    }
   ],
   "source": [
    "astronaut"
   ]
  },
  {
   "cell_type": "code",
   "execution_count": null,
   "id": "0a1330f3",
   "metadata": {},
   "outputs": [],
   "source": [
    "# Delete"
   ]
  },
  {
   "cell_type": "code",
   "execution_count": 50,
   "id": "4782354a",
   "metadata": {},
   "outputs": [],
   "source": [
    "del astronaut[\"space_ship\"]"
   ]
  },
  {
   "cell_type": "code",
   "execution_count": 51,
   "id": "5fe9da7f",
   "metadata": {},
   "outputs": [
    {
     "data": {
      "text/plain": [
       "{'name': 'Rakesh Sharma',\n",
       " 'Suit_size': 'Large',\n",
       " 'Allergies': 'Roti',\n",
       " 'allergies': 'mango'}"
      ]
     },
     "execution_count": 51,
     "metadata": {},
     "output_type": "execute_result"
    }
   ],
   "source": [
    "astronaut"
   ]
  },
  {
   "cell_type": "markdown",
   "id": "43d58ec7",
   "metadata": {},
   "source": [
    "# Conditions and Logic"
   ]
  },
  {
   "cell_type": "code",
   "execution_count": 55,
   "id": "61e7a5db",
   "metadata": {},
   "outputs": [
    {
     "name": "stdout",
     "output_type": "stream",
     "text": [
      "what's up neil\n"
     ]
    }
   ],
   "source": [
    "# Applying Logic using the IF statement\n",
    "name = \"neil arm strong\"\n",
    "if name == \"neil arm strong\":\n",
    "    print(\"what's up neil\")\n",
    "else:\n",
    "    print(\"sunita williams\")"
   ]
  },
  {
   "cell_type": "code",
   "execution_count": 58,
   "id": "c8fe2948",
   "metadata": {},
   "outputs": [
    {
     "name": "stdout",
     "output_type": "stream",
     "text": [
      "Number is greater or equal to 5\n"
     ]
    }
   ],
   "source": [
    "test_no = 10\n",
    "if test_no >= 5:\n",
    "    print(\"Number is greater or equal to 5\")\n",
    "else:\n",
    "    print(\"Not\")"
   ]
  },
  {
   "cell_type": "code",
   "execution_count": 61,
   "id": "8be73c2f",
   "metadata": {},
   "outputs": [
    {
     "name": "stdout",
     "output_type": "stream",
     "text": [
      "False\n"
     ]
    }
   ],
   "source": [
    "probability = 0.4\n",
    "\n",
    "# probability is greater then 0.5\n",
    "if probability > 0.5:\n",
    "    print(True)\n",
    "    \n",
    "# probability is equal to 0.5\n",
    "elif probability == 0.5:\n",
    "    print(\"Equal and True\")\n",
    "    \n",
    "# probability is less then 0.5\n",
    "else:\n",
    "    print(False)"
   ]
  },
  {
   "cell_type": "code",
   "execution_count": 66,
   "id": "6b74acbd",
   "metadata": {},
   "outputs": [
    {
     "name": "stdout",
     "output_type": "stream",
     "text": [
      "elon's here\n",
      "elon's here\n"
     ]
    }
   ],
   "source": [
    "# Create list of different names\n",
    "names = [\"kshitij\", \"sunita\", \"tisha\", \"elon musk\", \"Bill gates\"]\n",
    "if \"elon musk\" in names:\n",
    "    print(\"elon's here\")\n",
    "    print('elon\\'s here')"
   ]
  },
  {
   "cell_type": "markdown",
   "id": "e51fa22a",
   "metadata": {},
   "source": [
    "# Loops"
   ]
  },
  {
   "cell_type": "code",
   "execution_count": 5,
   "id": "c59d22d6",
   "metadata": {},
   "outputs": [
    {
     "name": "stdout",
     "output_type": "stream",
     "text": [
      "kshitij\n",
      "Pleased to have you here!\n",
      "\n",
      "sunita\n",
      "Hi sunita\n",
      "Pleased to have you here!\n",
      "\n",
      "tisha\n",
      "Hi tisha\n"
     ]
    }
   ],
   "source": [
    "# For Loop\n",
    "names = [\"kshitij\", \"sunita\", \"tisha\", \"elon musk\", \"Bill gates\"]\n",
    "for name in names:\n",
    "    print(name)\n",
    "    \n",
    "    # Condition statement block\n",
    "    if name == \"elon musk\":\n",
    "        print(\"Hi ELON\")\n",
    "        # Next value in the loop\n",
    "        continue\n",
    "        \n",
    "    elif name == \"tisha\":\n",
    "        print(\"Hi tisha\")\n",
    "        # Break statement stops the loop\n",
    "        break\n",
    "        \n",
    "    elif name == \"sunita\":\n",
    "        print(\"Hi sunita\")\n",
    "        \n",
    "    # Catch all\n",
    "    else:\n",
    "        pass\n",
    "    \n",
    "    # Outside of if statement block\n",
    "    print(\"Pleased to have you here!\\n\")"
   ]
  },
  {
   "cell_type": "code",
   "execution_count": 7,
   "id": "ce73e197",
   "metadata": {},
   "outputs": [
    {
     "name": "stdout",
     "output_type": "stream",
     "text": [
      "1\n",
      "2\n",
      "3\n",
      "4\n",
      "5\n",
      "6\n",
      "7\n",
      "8\n",
      "9\n"
     ]
    }
   ],
   "source": [
    "# Loop x no. of times\n",
    "for idx in range(1,10):\n",
    "    print(idx)\n",
    "    # Prints from x to y - 1"
   ]
  },
  {
   "cell_type": "code",
   "execution_count": 11,
   "id": "acf236ea",
   "metadata": {},
   "outputs": [
    {
     "name": "stdout",
     "output_type": "stream",
     "text": [
      "Shuttle 1 launched\n",
      "Shuttle 2 launched\n",
      "Shuttle 3 launched\n",
      "Shuttle 4 launched\n",
      "Shuttle 5 launched\n",
      "All shuttles launched\n"
     ]
    }
   ],
   "source": [
    "# Create launch variables\n",
    "launched_shuttles = 0\n",
    "total_shuttles = 5\n",
    "\n",
    "while True:\n",
    "    launched_shuttles = launched_shuttles + 1\n",
    "    #print(\"Shuttles Launched \",launched_shuttles)\n",
    "    print(\"Shuttle {} launched\".format(launched_shuttles))\n",
    "    # launched_shuttles += 1\n",
    "    if launched_shuttles == total_shuttles:\n",
    "        print(\"All shuttles launched\")\n",
    "        break"
   ]
  },
  {
   "cell_type": "code",
   "execution_count": 13,
   "id": "b10b5e87",
   "metadata": {},
   "outputs": [
    {
     "name": "stdout",
     "output_type": "stream",
     "text": [
      "Shuttle Launched  1\n",
      "Shuttle Launched  2\n",
      "Shuttle Launched  3\n",
      "Shuttle Launched  4\n",
      "Shuttle Launched  5\n",
      "All shuttles launched\n"
     ]
    }
   ],
   "source": [
    "# Create launch variables\n",
    "launched_shuttles = 0\n",
    "total_shuttles = 5\n",
    "\n",
    "while True:\n",
    "    launched_shuttles = launched_shuttles + 1\n",
    "    print(\"Shuttle Launched \",launched_shuttles)\n",
    "    #print(\"Shuttle {} launched\".format(launched_shuttles))\n",
    "    # launched_shuttles += 1\n",
    "    if launched_shuttles == total_shuttles:\n",
    "        print(\"All shuttles launched\")\n",
    "        break"
   ]
  },
  {
   "cell_type": "code",
   "execution_count": 16,
   "id": "8725551c",
   "metadata": {},
   "outputs": [],
   "source": [
    "astro = {\n",
    "    \"Name\": \"Elon Musk\",\n",
    "    \"Height\": 180,\n",
    "    \"Weight\": 70\n",
    "}"
   ]
  },
  {
   "cell_type": "code",
   "execution_count": 17,
   "id": "b17e7c52",
   "metadata": {},
   "outputs": [
    {
     "name": "stdout",
     "output_type": "stream",
     "text": [
      "Name\n",
      "Height\n",
      "Weight\n"
     ]
    }
   ],
   "source": [
    "# Loops through Keys\n",
    "for key in astro.keys():\n",
    "    print(key)"
   ]
  },
  {
   "cell_type": "code",
   "execution_count": 18,
   "id": "04e20114",
   "metadata": {},
   "outputs": [
    {
     "data": {
      "text/plain": [
       "dict_values(['Elon Musk', 180, 70])"
      ]
     },
     "execution_count": 18,
     "metadata": {},
     "output_type": "execute_result"
    }
   ],
   "source": [
    "# Asscessing through values\n",
    "astro.values()"
   ]
  },
  {
   "cell_type": "code",
   "execution_count": 19,
   "id": "92fe6ef1",
   "metadata": {},
   "outputs": [
    {
     "name": "stdout",
     "output_type": "stream",
     "text": [
      "Elon Musk\n",
      "180\n",
      "70\n"
     ]
    }
   ],
   "source": [
    "for value in astro.values():\n",
    "    print(value)"
   ]
  },
  {
   "cell_type": "code",
   "execution_count": 20,
   "id": "e99199df",
   "metadata": {},
   "outputs": [
    {
     "data": {
      "text/plain": [
       "dict_items([('Name', 'Elon Musk'), ('Height', 180), ('Weight', 70)])"
      ]
     },
     "execution_count": 20,
     "metadata": {},
     "output_type": "execute_result"
    }
   ],
   "source": [
    "astro.items()"
   ]
  },
  {
   "cell_type": "code",
   "execution_count": 26,
   "id": "8a2cfa15",
   "metadata": {},
   "outputs": [
    {
     "name": "stdout",
     "output_type": "stream",
     "text": [
      "Name Elon Musk\n",
      "Height 180\n",
      "Weight 70\n"
     ]
    }
   ],
   "source": [
    "# Loop through keys and values at the same time\n",
    "for key,value in astro.items():\n",
    "    print(key,value)"
   ]
  },
  {
   "cell_type": "code",
   "execution_count": 28,
   "id": "d3c9cfe6",
   "metadata": {},
   "outputs": [],
   "source": [
    "# list Comprehension\n",
    "names = [\"kshitij\", \"sunita\", \"tisha\", \"elon musk\", \"Bill gates\"]\n",
    "new_list = [name.title() for name in names]"
   ]
  },
  {
   "cell_type": "code",
   "execution_count": 29,
   "id": "07cde17b",
   "metadata": {},
   "outputs": [
    {
     "data": {
      "text/plain": [
       "['Kshitij', 'Sunita', 'Tisha', 'Elon Musk', 'Bill Gates']"
      ]
     },
     "execution_count": 29,
     "metadata": {},
     "output_type": "execute_result"
    }
   ],
   "source": [
    "new_list"
   ]
  },
  {
   "cell_type": "markdown",
   "id": "8744493f",
   "metadata": {},
   "source": [
    "# Functions"
   ]
  },
  {
   "cell_type": "code",
   "execution_count": 31,
   "id": "9c55d158",
   "metadata": {},
   "outputs": [],
   "source": [
    "# Defining a function in python\n",
    "def launchpad():\n",
    "    print(\"HELLO\")\n",
    "    "
   ]
  },
  {
   "cell_type": "code",
   "execution_count": 32,
   "id": "67b701fa",
   "metadata": {},
   "outputs": [
    {
     "name": "stdout",
     "output_type": "stream",
     "text": [
      "HELLO\n"
     ]
    }
   ],
   "source": [
    "launchpad()"
   ]
  },
  {
   "cell_type": "code",
   "execution_count": 34,
   "id": "3ca0e54d",
   "metadata": {},
   "outputs": [
    {
     "name": "stdout",
     "output_type": "stream",
     "text": [
      "HELLO\n",
      "3\n",
      "7\n",
      "HELLO\n",
      "3\n",
      "7\n",
      "HELLO\n",
      "3\n",
      "7\n",
      "HELLO\n",
      "3\n",
      "7\n",
      "HELLO\n",
      "3\n",
      "7\n",
      "HELLO\n",
      "3\n",
      "7\n",
      "HELLO\n",
      "3\n",
      "7\n",
      "HELLO\n",
      "3\n",
      "7\n",
      "HELLO\n",
      "3\n",
      "7\n",
      "HELLO\n",
      "3\n",
      "7\n"
     ]
    }
   ],
   "source": [
    "for idx in range(10):\n",
    "    launchpad()\n",
    "    print(1+2)\n",
    "    print(3+4)"
   ]
  },
  {
   "cell_type": "code",
   "execution_count": 35,
   "id": "d1aca1b8",
   "metadata": {},
   "outputs": [],
   "source": [
    "names = [\"kshitij\", \"sunita\", \"tisha\", \"elon musk\", \"Bill gates\"]"
   ]
  },
  {
   "cell_type": "code",
   "execution_count": 36,
   "id": "1e06425d",
   "metadata": {},
   "outputs": [],
   "source": [
    "def custom_welcome(name):\n",
    "    print(\"Welcome {}\".format(name))"
   ]
  },
  {
   "cell_type": "code",
   "execution_count": 37,
   "id": "b377a427",
   "metadata": {},
   "outputs": [
    {
     "name": "stdout",
     "output_type": "stream",
     "text": [
      "Welcome kshitij pratap tomer\n"
     ]
    }
   ],
   "source": [
    "# Running function\n",
    "custom_welcome(\"kshitij pratap tomer\")"
   ]
  },
  {
   "cell_type": "code",
   "execution_count": 38,
   "id": "4754fb53",
   "metadata": {},
   "outputs": [
    {
     "name": "stdout",
     "output_type": "stream",
     "text": [
      "Welcome kshitij\n",
      "Welcome sunita\n",
      "Welcome tisha\n",
      "Welcome elon musk\n",
      "Welcome Bill gates\n"
     ]
    }
   ],
   "source": [
    "for name in names:\n",
    "    custom_welcome(name)"
   ]
  },
  {
   "cell_type": "code",
   "execution_count": 39,
   "id": "9e63367c",
   "metadata": {},
   "outputs": [
    {
     "name": "stdout",
     "output_type": "stream",
     "text": [
      "Welcome kshitij pratap tomer\n"
     ]
    }
   ],
   "source": [
    "# String Formatting\n",
    "print(\"Welcome {} {} {}\".format(\"kshitij\",\"pratap\",\"tomer\"))"
   ]
  },
  {
   "cell_type": "code",
   "execution_count": null,
   "id": "b0209f16",
   "metadata": {},
   "outputs": [],
   "source": []
  },
  {
   "cell_type": "code",
   "execution_count": null,
   "id": "adc9fef0",
   "metadata": {},
   "outputs": [],
   "source": []
  },
  {
   "cell_type": "code",
   "execution_count": null,
   "id": "b091ef6b",
   "metadata": {},
   "outputs": [],
   "source": []
  },
  {
   "cell_type": "code",
   "execution_count": null,
   "id": "5c86d458",
   "metadata": {},
   "outputs": [],
   "source": []
  },
  {
   "cell_type": "code",
   "execution_count": null,
   "id": "7f63e7bc",
   "metadata": {},
   "outputs": [],
   "source": []
  },
  {
   "cell_type": "code",
   "execution_count": null,
   "id": "aa42dcfa",
   "metadata": {},
   "outputs": [],
   "source": []
  },
  {
   "cell_type": "code",
   "execution_count": null,
   "id": "c1c7a509",
   "metadata": {},
   "outputs": [],
   "source": []
  },
  {
   "cell_type": "code",
   "execution_count": null,
   "id": "daf27794",
   "metadata": {},
   "outputs": [],
   "source": []
  },
  {
   "cell_type": "code",
   "execution_count": null,
   "id": "c508fffe",
   "metadata": {},
   "outputs": [],
   "source": []
  }
 ],
 "metadata": {
  "kernelspec": {
   "display_name": "Python 3 (ipykernel)",
   "language": "python",
   "name": "python3"
  },
  "language_info": {
   "codemirror_mode": {
    "name": "ipython",
    "version": 3
   },
   "file_extension": ".py",
   "mimetype": "text/x-python",
   "name": "python",
   "nbconvert_exporter": "python",
   "pygments_lexer": "ipython3",
   "version": "3.10.1"
  }
 },
 "nbformat": 4,
 "nbformat_minor": 5
}
