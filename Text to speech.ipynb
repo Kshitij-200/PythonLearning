{
 "cells": [
  {
   "cell_type": "markdown",
   "id": "8d19f46c",
   "metadata": {},
   "source": [
    "# Install Dependencies"
   ]
  },
  {
   "cell_type": "code",
   "execution_count": 3,
   "id": "3fa03741",
   "metadata": {},
   "outputs": [
    {
     "name": "stdout",
     "output_type": "stream",
     "text": [
      "Defaulting to user installation because normal site-packages is not writeable\n",
      "Requirement already satisfied: ibm_watson in c:\\users\\kshitij pratap tomer\\appdata\\roaming\\python\\python311\\site-packages (6.1.0)\n",
      "Requirement already satisfied: requests<3.0,>=2.0 in c:\\users\\kshitij pratap tomer\\appdata\\roaming\\python\\python311\\site-packages (from ibm_watson) (2.28.2)\n",
      "Requirement already satisfied: python-dateutil>=2.5.3 in c:\\users\\kshitij pratap tomer\\appdata\\roaming\\python\\python311\\site-packages (from ibm_watson) (2.8.2)\n",
      "Requirement already satisfied: websocket-client==1.1.0 in c:\\users\\kshitij pratap tomer\\appdata\\roaming\\python\\python311\\site-packages (from ibm_watson) (1.1.0)\n",
      "Requirement already satisfied: ibm-cloud-sdk-core==3.*,>=3.3.6 in c:\\users\\kshitij pratap tomer\\appdata\\roaming\\python\\python311\\site-packages (from ibm_watson) (3.16.1)\n",
      "Requirement already satisfied: urllib3<2.0.0,>=1.26.0 in c:\\users\\kshitij pratap tomer\\appdata\\roaming\\python\\python311\\site-packages (from ibm-cloud-sdk-core==3.*,>=3.3.6->ibm_watson) (1.26.14)\n",
      "Requirement already satisfied: PyJWT<3.0.0,>=2.4.0 in c:\\users\\kshitij pratap tomer\\appdata\\roaming\\python\\python311\\site-packages (from ibm-cloud-sdk-core==3.*,>=3.3.6->ibm_watson) (2.6.0)\n",
      "Requirement already satisfied: six>=1.5 in c:\\users\\kshitij pratap tomer\\appdata\\roaming\\python\\python311\\site-packages (from python-dateutil>=2.5.3->ibm_watson) (1.16.0)\n",
      "Requirement already satisfied: charset-normalizer<4,>=2 in c:\\users\\kshitij pratap tomer\\appdata\\roaming\\python\\python311\\site-packages (from requests<3.0,>=2.0->ibm_watson) (3.0.1)\n",
      "Requirement already satisfied: idna<4,>=2.5 in c:\\users\\kshitij pratap tomer\\appdata\\roaming\\python\\python311\\site-packages (from requests<3.0,>=2.0->ibm_watson) (3.4)\n",
      "Requirement already satisfied: certifi>=2017.4.17 in c:\\users\\kshitij pratap tomer\\appdata\\roaming\\python\\python311\\site-packages (from requests<3.0,>=2.0->ibm_watson) (2022.12.7)\n"
     ]
    }
   ],
   "source": [
    "!pip install ibm_watson\n"
   ]
  },
  {
   "cell_type": "markdown",
   "id": "ee02259e",
   "metadata": {},
   "source": [
    "# Authenticate"
   ]
  },
  {
   "cell_type": "code",
   "execution_count": 4,
   "id": "ef806fa8",
   "metadata": {},
   "outputs": [
    {
     "name": "stdout",
     "output_type": "stream",
     "text": [
      "hi\n"
     ]
    }
   ],
   "source": [
    "print(\"hi\")"
   ]
  },
  {
   "cell_type": "markdown",
   "id": "7cae1e28",
   "metadata": {},
   "source": [
    "# Convert a String"
   ]
  },
  {
   "cell_type": "markdown",
   "id": "0958b10b",
   "metadata": {},
   "source": [
    "# Convert from a file"
   ]
  },
  {
   "cell_type": "markdown",
   "id": "bb3833e2",
   "metadata": {},
   "source": [
    "# Using new language models"
   ]
  },
  {
   "cell_type": "code",
   "execution_count": null,
   "id": "4c099cb9",
   "metadata": {},
   "outputs": [],
   "source": []
  },
  {
   "cell_type": "code",
   "execution_count": null,
   "id": "5ac22cfb",
   "metadata": {},
   "outputs": [],
   "source": []
  },
  {
   "cell_type": "code",
   "execution_count": null,
   "id": "faee618f",
   "metadata": {},
   "outputs": [],
   "source": []
  },
  {
   "cell_type": "code",
   "execution_count": null,
   "id": "32ff68fc",
   "metadata": {},
   "outputs": [],
   "source": []
  },
  {
   "cell_type": "code",
   "execution_count": null,
   "id": "1e007e01",
   "metadata": {},
   "outputs": [],
   "source": []
  },
  {
   "cell_type": "code",
   "execution_count": null,
   "id": "1b0c8982",
   "metadata": {},
   "outputs": [],
   "source": []
  },
  {
   "cell_type": "code",
   "execution_count": null,
   "id": "e398ba2f",
   "metadata": {},
   "outputs": [],
   "source": []
  },
  {
   "cell_type": "code",
   "execution_count": null,
   "id": "5bcf95fb",
   "metadata": {},
   "outputs": [],
   "source": []
  },
  {
   "cell_type": "code",
   "execution_count": null,
   "id": "feb03a04",
   "metadata": {},
   "outputs": [],
   "source": []
  },
  {
   "cell_type": "code",
   "execution_count": null,
   "id": "f2169ffd",
   "metadata": {},
   "outputs": [],
   "source": []
  },
  {
   "cell_type": "code",
   "execution_count": null,
   "id": "143ee7b3",
   "metadata": {},
   "outputs": [],
   "source": []
  },
  {
   "cell_type": "code",
   "execution_count": null,
   "id": "67640e5f",
   "metadata": {},
   "outputs": [],
   "source": []
  },
  {
   "cell_type": "code",
   "execution_count": null,
   "id": "0e43b308",
   "metadata": {},
   "outputs": [],
   "source": []
  },
  {
   "cell_type": "code",
   "execution_count": null,
   "id": "d6abed6f",
   "metadata": {},
   "outputs": [],
   "source": []
  },
  {
   "cell_type": "code",
   "execution_count": null,
   "id": "00a90571",
   "metadata": {},
   "outputs": [],
   "source": []
  },
  {
   "cell_type": "code",
   "execution_count": null,
   "id": "c855ce10",
   "metadata": {},
   "outputs": [],
   "source": []
  },
  {
   "cell_type": "code",
   "execution_count": null,
   "id": "5b54933a",
   "metadata": {},
   "outputs": [],
   "source": []
  },
  {
   "cell_type": "code",
   "execution_count": null,
   "id": "84accf1a",
   "metadata": {},
   "outputs": [],
   "source": []
  },
  {
   "cell_type": "code",
   "execution_count": null,
   "id": "ffc79b9d",
   "metadata": {},
   "outputs": [],
   "source": []
  },
  {
   "cell_type": "code",
   "execution_count": null,
   "id": "ac2f4854",
   "metadata": {},
   "outputs": [],
   "source": []
  },
  {
   "cell_type": "code",
   "execution_count": null,
   "id": "855b721a",
   "metadata": {},
   "outputs": [],
   "source": []
  },
  {
   "cell_type": "code",
   "execution_count": null,
   "id": "3819d0c3",
   "metadata": {},
   "outputs": [],
   "source": []
  },
  {
   "cell_type": "code",
   "execution_count": null,
   "id": "6d49b1b9",
   "metadata": {},
   "outputs": [],
   "source": []
  }
 ],
 "metadata": {
  "kernelspec": {
   "display_name": "Python 3 (ipykernel)",
   "language": "python",
   "name": "python3"
  },
  "language_info": {
   "codemirror_mode": {
    "name": "ipython",
    "version": 3
   },
   "file_extension": ".py",
   "mimetype": "text/x-python",
   "name": "python",
   "nbconvert_exporter": "python",
   "pygments_lexer": "ipython3",
   "version": "3.9.13"
  }
 },
 "nbformat": 4,
 "nbformat_minor": 5
}
