{
 "cells": [
  {
   "cell_type": "markdown",
   "id": "8f31e397",
   "metadata": {},
   "source": [
    "# This is the first heading\n",
    "### This is a smaller heading\n",
    "\n",
    "hi my name is kshitij"
   ]
  },
  {
   "cell_type": "code",
   "execution_count": 4,
   "id": "dcc67ebc",
   "metadata": {},
   "outputs": [
    {
     "name": "stdout",
     "output_type": "stream",
     "text": [
      "kshitij\n"
     ]
    }
   ],
   "source": [
    "print(\"kshitij\")"
   ]
  },
  {
   "cell_type": "code",
   "execution_count": null,
   "id": "5375a029",
   "metadata": {},
   "outputs": [],
   "source": []
  },
  {
   "cell_type": "code",
   "execution_count": null,
   "id": "7184f269",
   "metadata": {},
   "outputs": [],
   "source": []
  }
 ],
 "metadata": {
  "kernelspec": {
   "display_name": "Python 3 (ipykernel)",
   "language": "python",
   "name": "python3"
  },
  "language_info": {
   "codemirror_mode": {
    "name": "ipython",
    "version": 3
   },
   "file_extension": ".py",
   "mimetype": "text/x-python",
   "name": "python",
   "nbconvert_exporter": "python",
   "pygments_lexer": "ipython3",
   "version": "3.10.1"
  }
 },
 "nbformat": 4,
 "nbformat_minor": 5
}
