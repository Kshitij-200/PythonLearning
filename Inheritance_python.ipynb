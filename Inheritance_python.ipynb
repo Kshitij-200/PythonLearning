{
 "cells": [
  {
   "cell_type": "markdown",
   "id": "32da7bfd",
   "metadata": {},
   "source": [
    "# Inheritance"
   ]
  },
  {
   "cell_type": "code",
   "execution_count": 2,
   "id": "8588418d",
   "metadata": {},
   "outputs": [],
   "source": [
    "# Classes as boilerPlates for objects\n",
    "class Person():\n",
    "    # the method that runs as soon as you create a class-intialise\n",
    "    def __init__(self, name, age, colour):\n",
    "        # Create some attributes for our person class\n",
    "        self.name = name\n",
    "        self.age = age\n",
    "        self.colour = colour\n",
    "        \n",
    "    # DOB Method\n",
    "    def yearOfBirth(self):\n",
    "        return 2023 - self.age\n",
    "    \n",
    "    # Projected age\n",
    "    def projected_Age(self, year = 5):\n",
    "        return self.age + year\n",
    "        "
   ]
  },
  {
   "cell_type": "code",
   "execution_count": null,
   "id": "07977519",
   "metadata": {},
   "outputs": [],
   "source": [
    "# INHERITANCE - \n",
    "# Parent is the class passing down attributes and methods = Person\n",
    "# Child is the class inheriting the methods and attributes = astronaut"
   ]
  },
  {
   "cell_type": "code",
   "execution_count": 4,
   "id": "2881253a",
   "metadata": {},
   "outputs": [],
   "source": [
    "# Create a child class\n",
    "class Astronaut(Person):\n",
    "    \n",
    "    # Define intialization function\n",
    "    def __init__(self, name, age, colour, misson_length_in_months):\n",
    "        # This is ehat gives us inheritance - Super method\n",
    "        super().init__(name,age,colour)\n",
    "        self.mission_length_methods = misson_length_in_months\n",
    "    def age_on_return(s)"
   ]
  },
  {
   "cell_type": "code",
   "execution_count": 6,
   "id": "0d89c16e",
   "metadata": {},
   "outputs": [
    {
     "ename": "AttributeError",
     "evalue": "'super' object has no attribute 'init__'",
     "output_type": "error",
     "traceback": [
      "\u001b[1;31m---------------------------------------------------------------------------\u001b[0m",
      "\u001b[1;31mAttributeError\u001b[0m                            Traceback (most recent call last)",
      "Input \u001b[1;32mIn [6]\u001b[0m, in \u001b[0;36m<cell line: 1>\u001b[1;34m()\u001b[0m\n\u001b[1;32m----> 1\u001b[0m new_astronaut \u001b[38;5;241m=\u001b[39m \u001b[43mAstronaut\u001b[49m\u001b[43m(\u001b[49m\u001b[38;5;124;43m\"\u001b[39;49m\u001b[38;5;124;43mkshitij\u001b[39;49m\u001b[38;5;124;43m\"\u001b[39;49m\u001b[43m,\u001b[49m\u001b[43m \u001b[49m\u001b[38;5;241;43m18\u001b[39;49m\u001b[43m,\u001b[49m\u001b[43m \u001b[49m\u001b[38;5;124;43m\"\u001b[39;49m\u001b[38;5;124;43mBlue\u001b[39;49m\u001b[38;5;124;43m\"\u001b[39;49m\u001b[43m,\u001b[49m\u001b[43m \u001b[49m\u001b[38;5;241;43m48\u001b[39;49m\u001b[43m)\u001b[49m\n",
      "Input \u001b[1;32mIn [4]\u001b[0m, in \u001b[0;36mAstronaut.__init__\u001b[1;34m(self, name, age, colour, misson_length_in_months)\u001b[0m\n\u001b[0;32m      5\u001b[0m \u001b[38;5;28;01mdef\u001b[39;00m \u001b[38;5;21m__init__\u001b[39m(\u001b[38;5;28mself\u001b[39m, name, age, colour, misson_length_in_months):\n\u001b[0;32m      6\u001b[0m     \u001b[38;5;66;03m# This is ehat gives us inheritance - Super method\u001b[39;00m\n\u001b[1;32m----> 7\u001b[0m     \u001b[38;5;28;43msuper\u001b[39;49m\u001b[43m(\u001b[49m\u001b[43m)\u001b[49m\u001b[38;5;241;43m.\u001b[39;49m\u001b[43minit__\u001b[49m(name,age,colour)\n\u001b[0;32m      8\u001b[0m     \u001b[38;5;28mself\u001b[39m\u001b[38;5;241m.\u001b[39mmission_length_methods \u001b[38;5;241m=\u001b[39m misson_length_in_months\n",
      "\u001b[1;31mAttributeError\u001b[0m: 'super' object has no attribute 'init__'"
     ]
    }
   ],
   "source": [
    "new_astronaut = Astronaut(\"kshitij\", 18, \"Blue\", 48)\n"
   ]
  },
  {
   "cell_type": "code",
   "execution_count": null,
   "id": "63ea3198",
   "metadata": {},
   "outputs": [],
   "source": [
    "# Access parent like attribute\n",
    "new_astronaut.colour"
   ]
  },
  {
   "cell_type": "code",
   "execution_count": null,
   "id": "f172b1d8",
   "metadata": {},
   "outputs": [],
   "source": []
  },
  {
   "cell_type": "code",
   "execution_count": null,
   "id": "5a7d8e15",
   "metadata": {},
   "outputs": [],
   "source": []
  },
  {
   "cell_type": "code",
   "execution_count": null,
   "id": "5f064f77",
   "metadata": {},
   "outputs": [],
   "source": []
  },
  {
   "cell_type": "code",
   "execution_count": null,
   "id": "3a2097ad",
   "metadata": {},
   "outputs": [],
   "source": []
  },
  {
   "cell_type": "code",
   "execution_count": null,
   "id": "75bf6d93",
   "metadata": {},
   "outputs": [],
   "source": []
  },
  {
   "cell_type": "code",
   "execution_count": null,
   "id": "07b69eca",
   "metadata": {},
   "outputs": [],
   "source": []
  },
  {
   "cell_type": "code",
   "execution_count": null,
   "id": "64c1f25c",
   "metadata": {},
   "outputs": [],
   "source": []
  },
  {
   "cell_type": "code",
   "execution_count": null,
   "id": "f140dfe7",
   "metadata": {},
   "outputs": [],
   "source": []
  }
 ],
 "metadata": {
  "kernelspec": {
   "display_name": "Python 3 (ipykernel)",
   "language": "python",
   "name": "python3"
  },
  "language_info": {
   "codemirror_mode": {
    "name": "ipython",
    "version": 3
   },
   "file_extension": ".py",
   "mimetype": "text/x-python",
   "name": "python",
   "nbconvert_exporter": "python",
   "pygments_lexer": "ipython3",
   "version": "3.10.1"
  }
 },
 "nbformat": 4,
 "nbformat_minor": 5
}
