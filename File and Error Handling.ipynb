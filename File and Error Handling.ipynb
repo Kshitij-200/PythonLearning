{
 "cells": [
  {
   "cell_type": "markdown",
   "id": "e8e59383",
   "metadata": {},
   "source": [
    "# Working with Files"
   ]
  },
  {
   "cell_type": "code",
   "execution_count": 2,
   "id": "bdca1fae",
   "metadata": {},
   "outputs": [],
   "source": [
    "# write out our mission journal\n",
    "with open(\"mission_journal.txt\",\"w\") as f:\n",
    "    f.write(\"My name is Kshitij pratap tomer.\")"
   ]
  },
  {
   "cell_type": "code",
   "execution_count": 3,
   "id": "7b09ef3c",
   "metadata": {},
   "outputs": [],
   "source": [
    "# Read from our journal\n",
    "with open(\"mission_journal.txt\",\"r\") as f:\n",
    "    file = f.read()"
   ]
  },
  {
   "cell_type": "code",
   "execution_count": 4,
   "id": "948f44e8",
   "metadata": {},
   "outputs": [
    {
     "name": "stdout",
     "output_type": "stream",
     "text": [
      "My name is Kshitij pratap tomer.\n"
     ]
    }
   ],
   "source": [
    "print(file)"
   ]
  },
  {
   "cell_type": "markdown",
   "id": "fb9a54f0",
   "metadata": {},
   "source": [
    "# Error Handling"
   ]
  },
  {
   "cell_type": "code",
   "execution_count": 6,
   "id": "d7e37c94",
   "metadata": {},
   "outputs": [],
   "source": [
    "# Create a set\n",
    "new_set = {1,2,3,4,5,6}"
   ]
  },
  {
   "cell_type": "code",
   "execution_count": 7,
   "id": "3705d98e",
   "metadata": {},
   "outputs": [
    {
     "data": {
      "text/plain": [
       "{1, 2, 3, 4, 5, 6}"
      ]
     },
     "execution_count": 7,
     "metadata": {},
     "output_type": "execute_result"
    }
   ],
   "source": [
    "new_set"
   ]
  },
  {
   "cell_type": "code",
   "execution_count": 12,
   "id": "5584d79a",
   "metadata": {},
   "outputs": [
    {
     "name": "stdout",
     "output_type": "stream",
     "text": [
      "Something went wrong with your code.\n"
     ]
    }
   ],
   "source": [
    "# Try something using the try keyword\n",
    "try:\n",
    "    # Run a piece of code which may cause error\n",
    "    new_set[0] = 4\n",
    "# If we have an error this code below will run\n",
    "except Exception as e:\n",
    "    #print(e)\n",
    "    # Print out something that's a little nicer for the user\n",
    "    print(\"Something went wrong with your code.\")"
   ]
  },
  {
   "cell_type": "code",
   "execution_count": null,
   "id": "e2dea108",
   "metadata": {},
   "outputs": [],
   "source": []
  },
  {
   "cell_type": "code",
   "execution_count": null,
   "id": "00a7b167",
   "metadata": {},
   "outputs": [],
   "source": []
  },
  {
   "cell_type": "code",
   "execution_count": null,
   "id": "2bf1facd",
   "metadata": {},
   "outputs": [],
   "source": []
  },
  {
   "cell_type": "code",
   "execution_count": null,
   "id": "17d0f701",
   "metadata": {},
   "outputs": [],
   "source": []
  },
  {
   "cell_type": "code",
   "execution_count": null,
   "id": "e9248fc9",
   "metadata": {},
   "outputs": [],
   "source": []
  },
  {
   "cell_type": "code",
   "execution_count": null,
   "id": "cae2d7d8",
   "metadata": {},
   "outputs": [],
   "source": []
  },
  {
   "cell_type": "code",
   "execution_count": null,
   "id": "480853de",
   "metadata": {},
   "outputs": [],
   "source": []
  },
  {
   "cell_type": "code",
   "execution_count": null,
   "id": "1d6f9629",
   "metadata": {},
   "outputs": [],
   "source": []
  },
  {
   "cell_type": "code",
   "execution_count": null,
   "id": "f54817c0",
   "metadata": {},
   "outputs": [],
   "source": []
  },
  {
   "cell_type": "code",
   "execution_count": null,
   "id": "b66187d1",
   "metadata": {},
   "outputs": [],
   "source": []
  },
  {
   "cell_type": "code",
   "execution_count": null,
   "id": "276c93c6",
   "metadata": {},
   "outputs": [],
   "source": []
  }
 ],
 "metadata": {
  "kernelspec": {
   "display_name": "Python 3 (ipykernel)",
   "language": "python",
   "name": "python3"
  },
  "language_info": {
   "codemirror_mode": {
    "name": "ipython",
    "version": 3
   },
   "file_extension": ".py",
   "mimetype": "text/x-python",
   "name": "python",
   "nbconvert_exporter": "python",
   "pygments_lexer": "ipython3",
   "version": "3.10.1"
  }
 },
 "nbformat": 4,
 "nbformat_minor": 5
}
